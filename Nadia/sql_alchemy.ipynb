{
 "cells": [
  {
   "cell_type": "code",
   "execution_count": 1,
   "metadata": {},
   "outputs": [],
   "source": [
    "import pandas as pd\n",
    "import numpy as np\n",
    "import sqlalchemy\n",
    "from sqlalchemy.ext.automap import automap_base\n",
    "from sqlalchemy.orm import Session\n",
    "from sqlalchemy import create_engine, func, inspect"
   ]
  },
  {
   "cell_type": "code",
   "execution_count": 2,
   "metadata": {},
   "outputs": [],
   "source": [
    "rds_connection_string = \"postgres:pear12@localhost:5432/project2\"\n",
    "engine = create_engine(f'postgresql://{rds_connection_string}')"
   ]
  },
  {
   "cell_type": "code",
   "execution_count": null,
   "metadata": {},
   "outputs": [],
   "source": [
    "#engine.connect()"
   ]
  },
  {
   "cell_type": "code",
   "execution_count": 3,
   "metadata": {},
   "outputs": [],
   "source": [
    "# reflect an existing database into a new model\n",
    "Base = automap_base()\n",
    "# reflect the tables\n",
    "Base.prepare(engine, reflect=True)"
   ]
  },
  {
   "cell_type": "code",
   "execution_count": 4,
   "metadata": {},
   "outputs": [
    {
     "data": {
      "text/plain": [
       "['value', 'readmissions', 'census']"
      ]
     },
     "execution_count": 4,
     "metadata": {},
     "output_type": "execute_result"
    }
   ],
   "source": [
    "Base.classes.keys()"
   ]
  },
  {
   "cell_type": "code",
   "execution_count": 14,
   "metadata": {},
   "outputs": [
    {
     "data": {
      "text/plain": [
       "sqlalchemy.ext.automap.census"
      ]
     },
     "execution_count": 14,
     "metadata": {},
     "output_type": "execute_result"
    }
   ],
   "source": [
    "Census=Base.classes.census\n",
    "Value = Base.classes.value\n",
    "Readmissions = Base.classes.readmissions\n",
    "Census"
   ]
  },
  {
   "cell_type": "code",
   "execution_count": 6,
   "metadata": {},
   "outputs": [],
   "source": [
    "# Create our session (link) from Python to the DB\n",
    "session=Session(engine)"
   ]
  },
  {
   "cell_type": "code",
   "execution_count": 7,
   "metadata": {},
   "outputs": [
    {
     "data": {
      "text/plain": [
       "['value', 'readmissions', 'census']"
      ]
     },
     "execution_count": 7,
     "metadata": {},
     "output_type": "execute_result"
    }
   ],
   "source": [
    "inspector = inspect(engine)\n",
    "inspector.get_table_names()"
   ]
  },
  {
   "cell_type": "code",
   "execution_count": 17,
   "metadata": {},
   "outputs": [
    {
     "name": "stdout",
     "output_type": "stream",
     "text": [
      "\n",
      "value\n",
      "__________\n",
      "id INTEGER\n",
      "facility_id VARCHAR\n",
      "facility_name VARCHAR\n",
      "address VARCHAR\n",
      "city VARCHAR\n",
      "state VARCHAR\n",
      "zip_code VARCHAR\n",
      "payment_measure_name VARCHAR\n",
      "payment_category VARCHAR\n",
      "denominator NUMERIC\n",
      "payment NUMERIC\n",
      "value_of_care_display_name VARCHAR\n",
      "value_of_care_category VARCHAR\n",
      "outcome VARCHAR\n",
      "value_code VARCHAR\n",
      "\n",
      "readmissions\n",
      "__________\n",
      "id INTEGER\n",
      "facility_name VARCHAR\n",
      "facility_id NUMERIC\n",
      "measure_name VARCHAR\n",
      "number_of_discharges NUMERIC\n",
      "excess_readmission_ratio DOUBLE PRECISION\n",
      "number_of_readmissions NUMERIC\n",
      "\n",
      "census\n",
      "__________\n",
      "id INTEGER\n",
      "zip_code VARCHAR\n",
      "population NUMERIC\n",
      "poverty_rate DOUBLE PRECISION\n",
      "median_income NUMERIC\n"
     ]
    }
   ],
   "source": [
    "for table_name in inspector.get_table_names():\n",
    "    print(\"\")\n",
    "    print(table_name)\n",
    "    print(\"__________\")\n",
    "    for column in inspector.get_columns(table_name):\n",
    "           print(column['name'], column['type'])"
   ]
  },
  {
   "cell_type": "code",
   "execution_count": 23,
   "metadata": {},
   "outputs": [
    {
     "data": {
      "text/html": [
       "<div>\n",
       "<style scoped>\n",
       "    .dataframe tbody tr th:only-of-type {\n",
       "        vertical-align: middle;\n",
       "    }\n",
       "\n",
       "    .dataframe tbody tr th {\n",
       "        vertical-align: top;\n",
       "    }\n",
       "\n",
       "    .dataframe thead th {\n",
       "        text-align: right;\n",
       "    }\n",
       "</style>\n",
       "<table border=\"1\" class=\"dataframe\">\n",
       "  <thead>\n",
       "    <tr style=\"text-align: right;\">\n",
       "      <th></th>\n",
       "      <th>zip_code</th>\n",
       "      <th>median_income</th>\n",
       "    </tr>\n",
       "  </thead>\n",
       "  <tbody>\n",
       "    <tr>\n",
       "      <th>0</th>\n",
       "      <td>601</td>\n",
       "      <td>13092</td>\n",
       "    </tr>\n",
       "    <tr>\n",
       "      <th>1</th>\n",
       "      <td>602</td>\n",
       "      <td>16358</td>\n",
       "    </tr>\n",
       "    <tr>\n",
       "      <th>2</th>\n",
       "      <td>603</td>\n",
       "      <td>16603</td>\n",
       "    </tr>\n",
       "    <tr>\n",
       "      <th>3</th>\n",
       "      <td>606</td>\n",
       "      <td>12832</td>\n",
       "    </tr>\n",
       "    <tr>\n",
       "      <th>4</th>\n",
       "      <td>610</td>\n",
       "      <td>19309</td>\n",
       "    </tr>\n",
       "    <tr>\n",
       "      <th>...</th>\n",
       "      <td>...</td>\n",
       "      <td>...</td>\n",
       "    </tr>\n",
       "    <tr>\n",
       "      <th>30886</th>\n",
       "      <td>99921</td>\n",
       "      <td>58571</td>\n",
       "    </tr>\n",
       "    <tr>\n",
       "      <th>30887</th>\n",
       "      <td>99922</td>\n",
       "      <td>34028</td>\n",
       "    </tr>\n",
       "    <tr>\n",
       "      <th>30888</th>\n",
       "      <td>99925</td>\n",
       "      <td>57375</td>\n",
       "    </tr>\n",
       "    <tr>\n",
       "      <th>30889</th>\n",
       "      <td>99926</td>\n",
       "      <td>53409</td>\n",
       "    </tr>\n",
       "    <tr>\n",
       "      <th>30890</th>\n",
       "      <td>99929</td>\n",
       "      <td>57583</td>\n",
       "    </tr>\n",
       "  </tbody>\n",
       "</table>\n",
       "<p>30891 rows × 2 columns</p>\n",
       "</div>"
      ],
      "text/plain": [
       "      zip_code median_income\n",
       "0          601         13092\n",
       "1          602         16358\n",
       "2          603         16603\n",
       "3          606         12832\n",
       "4          610         19309\n",
       "...        ...           ...\n",
       "30886    99921         58571\n",
       "30887    99922         34028\n",
       "30888    99925         57375\n",
       "30889    99926         53409\n",
       "30890    99929         57583\n",
       "\n",
       "[30891 rows x 2 columns]"
      ]
     },
     "execution_count": 23,
     "metadata": {},
     "output_type": "execute_result"
    }
   ],
   "source": [
    "zip_value = session.query(Census.zip_code,Census.median_income).all()\n",
    "zip_value_df = pd.DataFrame(zip_value)\n",
    "zip_value_df"
   ]
  },
  {
   "cell_type": "code",
   "execution_count": 11,
   "metadata": {},
   "outputs": [
    {
     "data": {
      "text/plain": [
       "(Decimal('57583'))"
      ]
     },
     "execution_count": 11,
     "metadata": {},
     "output_type": "execute_result"
    }
   ],
   "source": [
    "median_income=session.query(Census.median_income).order_by(Census.zip_code.desc()).first()\n",
    "median_income"
   ]
  },
  {
   "cell_type": "code",
   "execution_count": null,
   "metadata": {},
   "outputs": [],
   "source": []
  }
 ],
 "metadata": {
  "kernelspec": {
   "display_name": "Python 3",
   "language": "python",
   "name": "python3"
  },
  "language_info": {
   "codemirror_mode": {
    "name": "ipython",
    "version": 3
   },
   "file_extension": ".py",
   "mimetype": "text/x-python",
   "name": "python",
   "nbconvert_exporter": "python",
   "pygments_lexer": "ipython3",
   "version": "3.8.3"
  }
 },
 "nbformat": 4,
 "nbformat_minor": 4
}
